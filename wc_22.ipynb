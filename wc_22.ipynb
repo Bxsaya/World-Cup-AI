{
 "cells": [
  {
   "cell_type": "code",
   "execution_count": 1,
   "metadata": {},
   "outputs": [
    {
     "name": "stdout",
     "output_type": "stream",
     "text": [
      "Collecting mwclient\n",
      "  Downloading mwclient-0.10.1-py2.py3-none-any.whl (27 kB)\n",
      "Requirement already satisfied: requests-oauthlib in c:\\users\\user\\appdata\\local\\programs\\python\\python311\\lib\\site-packages (from mwclient) (1.3.1)\n",
      "Requirement already satisfied: six in c:\\users\\user\\appdata\\local\\programs\\python\\python311\\lib\\site-packages (from mwclient) (1.16.0)\n",
      "Requirement already satisfied: oauthlib>=3.0.0 in c:\\users\\user\\appdata\\local\\programs\\python\\python311\\lib\\site-packages (from requests-oauthlib->mwclient) (3.2.2)\n",
      "Requirement already satisfied: requests>=2.0.0 in c:\\users\\user\\appdata\\local\\programs\\python\\python311\\lib\\site-packages (from requests-oauthlib->mwclient) (2.28.2)\n",
      "Requirement already satisfied: charset-normalizer<4,>=2 in c:\\users\\user\\appdata\\local\\programs\\python\\python311\\lib\\site-packages (from requests>=2.0.0->requests-oauthlib->mwclient) (3.0.1)\n",
      "Requirement already satisfied: idna<4,>=2.5 in c:\\users\\user\\appdata\\local\\programs\\python\\python311\\lib\\site-packages (from requests>=2.0.0->requests-oauthlib->mwclient) (3.4)\n",
      "Requirement already satisfied: urllib3<1.27,>=1.21.1 in c:\\users\\user\\appdata\\local\\programs\\python\\python311\\lib\\site-packages (from requests>=2.0.0->requests-oauthlib->mwclient) (1.26.14)\n",
      "Requirement already satisfied: certifi>=2017.4.17 in c:\\users\\user\\appdata\\local\\programs\\python\\python311\\lib\\site-packages (from requests>=2.0.0->requests-oauthlib->mwclient) (2022.12.7)\n",
      "Installing collected packages: mwclient\n",
      "Successfully installed mwclient-0.10.1\n"
     ]
    },
    {
     "name": "stderr",
     "output_type": "stream",
     "text": [
      "\n",
      "[notice] A new release of pip is available: 23.1 -> 23.1.2\n",
      "[notice] To update, run: python.exe -m pip install --upgrade pip\n",
      "\n",
      "[notice] A new release of pip is available: 23.1 -> 23.1.2\n",
      "[notice] To update, run: python.exe -m pip install --upgrade pip\n"
     ]
    },
    {
     "name": "stdout",
     "output_type": "stream",
     "text": [
      "Collecting mwparserfromhell\n",
      "  Downloading mwparserfromhell-0.6.4.tar.gz (137 kB)\n",
      "                                              0.0/137.6 kB ? eta -:--:--\n",
      "     --------                                30.7/137.6 kB 1.4 MB/s eta 0:00:01\n",
      "     --------                                30.7/137.6 kB 1.4 MB/s eta 0:00:01\n",
      "     --------                                30.7/137.6 kB 1.4 MB/s eta 0:00:01\n",
      "     ------------------------              92.2/137.6 kB 525.1 kB/s eta 0:00:01\n",
      "     ------------------------              92.2/137.6 kB 525.1 kB/s eta 0:00:01\n",
      "     ------------------------------------ 137.6/137.6 kB 480.5 kB/s eta 0:00:00\n",
      "  Preparing metadata (setup.py): started\n",
      "  Preparing metadata (setup.py): finished with status 'done'\n",
      "Building wheels for collected packages: mwparserfromhell\n",
      "  Building wheel for mwparserfromhell (setup.py): started\n",
      "  Building wheel for mwparserfromhell (setup.py): finished with status 'done'\n",
      "  Created wheel for mwparserfromhell: filename=mwparserfromhell-0.6.4-cp311-cp311-win_amd64.whl size=100183 sha256=347fce5823b9afe619b1f6f28907d21fd90bf0843e0bb5c8b85b258862f8a1ad\n",
      "  Stored in directory: c:\\users\\user\\appdata\\local\\pip\\cache\\wheels\\ca\\c5\\73\\7d6918569de46124b1ae60ab19d288d9becd4638d8aae8f66f\n",
      "Successfully built mwparserfromhell\n",
      "Installing collected packages: mwparserfromhell\n",
      "Successfully installed mwparserfromhell-0.6.4\n"
     ]
    }
   ],
   "source": [
    "!pip install mwclient\n",
    "!pip install mwparserfromhell"
   ]
  },
  {
   "cell_type": "code",
   "execution_count": 2,
   "metadata": {},
   "outputs": [
    {
     "name": "stderr",
     "output_type": "stream",
     "text": [
      "c:\\Users\\user\\AppData\\Local\\Programs\\Python\\Python311\\Lib\\site-packages\\tqdm\\auto.py:22: TqdmWarning: IProgress not found. Please update jupyter and ipywidgets. See https://ipywidgets.readthedocs.io/en/stable/user_install.html\n",
      "  from .autonotebook import tqdm as notebook_tqdm\n"
     ]
    }
   ],
   "source": [
    "import wikipedia\n",
    "import openai\n",
    "import pandas as pd\n",
    "import numpy as np\n",
    "import re\n",
    "from typing import Set\n",
    "from transformers import GPT2TokenizerFast\n",
    "import matplotlib.pyplot as plt\n",
    "from nltk.tokenize import sent_tokenize\n",
    "import tiktoken\n",
    "import mwclient\n",
    "import mwparserfromhell \n"
   ]
  },
  {
   "cell_type": "code",
   "execution_count": 3,
   "metadata": {},
   "outputs": [
    {
     "name": "stdout",
     "output_type": "stream",
     "text": [
      "33\n"
     ]
    }
   ],
   "source": [
    "def filter_wc_2022_titles(titles):\n",
    "    titles = [title for title in titles if '2022 FIFA World Cup' in title]\n",
    "    return titles\n",
    "\n",
    "def get_page(title):\n",
    "    try:\n",
    "        return wikipedia.page(title)\n",
    "    except wikipedia.exceptions.DisambiguationError as e:\n",
    "        return wikipedia.page(e.options[0])\n",
    "    except wikipedia.exceptions.PageError as e:\n",
    "        return None\n",
    "    \n",
    "def find_pages(titles, titles_so_far=set()):\n",
    "    all_pages = []\n",
    "    titles = list(set(titles) - titles_so_far)\n",
    "    titles = filter_wc_2022_titles(titles)\n",
    "    titles_so_far.update(titles)\n",
    "    for title in titles:\n",
    "        page = get_page(title)\n",
    "        if page is None:\n",
    "            continue\n",
    "        all_pages.append(page)\n",
    "\n",
    "        new_pages = find_pages(page.links, titles_so_far)\n",
    "        for pg in new_pages:\n",
    "            if pg.title not in [p.title for p in all_pages]:\n",
    "                all_pages.append(pg)\n",
    "        titles_so_far.update(page.links)\n",
    "    return all_pages\n",
    "\n",
    "pages = find_pages(['2022 FIFA World Cup'])\n",
    "print(len(pages))\n"
   ]
  },
  {
   "cell_type": "code",
   "execution_count": 4,
   "metadata": {},
   "outputs": [
    {
     "name": "stderr",
     "output_type": "stream",
     "text": [
      "Token indices sequence length is longer than the specified maximum sequence length for this model (1184 > 1024). Running this sequence through the model will result in indexing errors\n"
     ]
    },
    {
     "data": {
      "text/plain": [
       "('2022 FIFA World Cup final',\n",
       " 'Background',\n",
       " 'Argentina had won the World Cup twice before, in 1978 and 1986. They had also finished as losing finalists thrice, in 1930, 1990 and 2014. After the 2014 final loss, they went on to lose two consecutive Copa América finals to Chile, in 2015 and 2016. After a string of disappointing performances in the 2018 FIFA World Cup, where they lost to eventual champions France in the first knockout round, and the 2019 Copa América, where they finished third, newly-appointed coach Lionel Scaloni led Argentina to their first international title since the 1993 Copa América: Argentina defeated Brazil 1–0 in the 2021 Copa América Final, handing captain Lionel Messi his first international title with Argentina. After winning the 2022 Finalissima, beating European champions Italy 3–0, Argentina entered Qatar as one of the favourites to win.France were the defending champions from the 2018 World Cup, which made this the first time since the 2002 final in which a team had consecutive appearances at the finals, and the first since 1998 in which the title holders qualified for the subsequent final – both feats achieved by Brazil. France had claimed two World Cups, in 1998 and 2018. The French also reached the 2006 final, but fell to Italy on penalties. Under the management of Didier Deschamps, who won the 1998 tournament as a player, the French failed to conquer the 2014 World Cup and UEFA Euros 2016 and 2020, but successfully clinched the 2018 World Cup title. Due to their status as the world champions, France also entered Qatar as one of the favourites to win. France aimed to emulate the achievement of Italy in 1934 and 1938 and Brazil in 1958 and 1962 as the third country to successfully defend the World Cup title. Deschamps was seeking to become the second manager to win two men\\'s FIFA World Cup titles, after Vittorio Pozzo with Italy in 1934 and 1938. Having won the 1998 tournament as a player, Deschamps was also seeking to become the third person to win three FIFA World Cup titles, after Brazilian legends Pelé (all as a player) and Mário Zagallo (two as a player, one as a manager).The two nations met in the knockout stage for the second straight World Cup. In 2018 in Russia at the Kazan Arena in the round of 16, France won the encounter 4–3 in what The Independent called \"one of the greatest World Cup games of all time\". Antoine Griezmann opened the scoring with a penalty before Ángel Di María and Gabriel Mercado put Argentina in front, with France then scoring the next three goals courtesy of Benjamin Pavard\\'s volley outside of the box – which was later voted as the goal of the tournament – and then Kylian Mbappé twice. Sergio Agüero reduced the deficit to one in stoppage time, but Argentina was unable to equalise and send the match to extra time.The match ball for the 2022 FIFA World Cup semi-finals, third place match and final was announced on 11 December 2022. It was a variation of the Adidas Al Rihla used in the rest of the tournament named the Adidas Al-Hilm, meaning \"The Dream\" in Arabic, a reference to every nation\\'s dream of lifting the FIFA World Cup. Whilst the technical aspects of the ball are the same, the colour is different from the Al-Rihla balls used in the group stages and preceding knockout games, with a Gold Metallic, maroon, Collegiate Burgundy, and red design, a reference to the national colours of host nation Qatar and the golden colours shared by the final\\'s venue Lusail Stadium and the FIFA World Cup Trophy. It is the fifth special ball for FIFA World Cup final matches, after the +Teamgeist Berlin, Jo\\'bulani, Brazuca Final Rio, and Telstar Mechta.',\n",
       " 790)"
      ]
     },
     "execution_count": 4,
     "metadata": {},
     "output_type": "execute_result"
    }
   ],
   "source": [
    "tokenizer = GPT2TokenizerFast.from_pretrained('gpt2')\n",
    "\n",
    "def count_tokens(text:str):\n",
    "    return len(tokenizer.encode(text))\n",
    "\n",
    "def reduce_long(long_text:str, long_text_tokens: bool = False, max_len: int = 590):\n",
    "    if not long_text_tokens:\n",
    "        long_text_tokens = count_tokens(long_text)\n",
    "    if long_text_tokens > max_len:\n",
    "        sentences = sent_tokenize(long_text.replace('\\n', ' '))\n",
    "        ntokens = 0\n",
    "        for i, sentence in enumerate (sentences):\n",
    "            ntokens +=1 + count_tokens(sentence)\n",
    "            if ntokens > max_len:\n",
    "                return '. '.join(sentences[:i]) + '.'\n",
    "    return long_text\n",
    "\n",
    "discard_categories = ['See also', 'References', 'External links', 'Further reading', \"Footnotes\",\n",
    "    \"Bibliography\", \"Sources\", \"Citations\", \"Literature\", \"Footnotes\", \"Notes and references\",\n",
    "    \"Photo gallery\", \"Works cited\", \"Photos\", \"Gallery\", \"Notes\", \"References and sources\",\n",
    "    \"References and notes\",]\n",
    "\n",
    "def extract_sections(wiki_text:str, title:str, max_len: int = 1500, discard_categories: Set[str] = discard_categories,) -> str:\n",
    "    if len(wiki_text)==0:\n",
    "        return []\n",
    "    \n",
    "    headings = re.findall('==+ .* ==+', wiki_text)\n",
    "    for heading in headings:\n",
    "        wiki_text = wiki_text.replace(heading, '==+ !! ==+')\n",
    "    contents = wiki_text.split('==+ !! ==+')\n",
    "    contents = [c.strip()for c in contents]\n",
    "    assert len(headings) == len(contents) - 1\n",
    "\n",
    "    cont = contents.pop(0).strip()\n",
    "    outputs = [(title, \"Summary\", cont, count_tokens(cont)+4)]\n",
    "\n",
    "    max_level = 100\n",
    "    keep_group_level = max_level\n",
    "    remove_group_level = max_level\n",
    "    nheadings, ncontents = [], []\n",
    "    for heading, content in zip(headings, contents):\n",
    "        plain_heading = ' '.join(heading.split(' ')[1:-1])\n",
    "        num_equals = len(heading.split(' ')[0])\n",
    "        if num_equals<= keep_group_level:\n",
    "            keep_group_level = max_level\n",
    "        if num_equals > remove_group_level:\n",
    "            if(num_equals <= keep_group_level):\n",
    "                continue\n",
    "        keep_group_level = max_level\n",
    "        if plain_heading in discard_categories:\n",
    "            remove_group_level = num_equals\n",
    "            keep_group_level = max_level\n",
    "            continue\n",
    "        nheadings.append(heading.replace('=','').strip())\n",
    "        ncontents.append(content)\n",
    "        remove_group_level = max_level\n",
    "    \n",
    "    ncontent_tokens = [count_tokens(c) + 3 + count_tokens(' '.join(h.split(' '))) - (1 if len(c)== 0 else 0) for h,c in zip(nheadings, ncontents)]\n",
    "    outputs += [(title, h, c, t) if t< max_len else (title, h, reduce_long(c, max_len), count_tokens(reduce_long(c, max_len))) for h, c, t in zip(nheadings, ncontents, ncontent_tokens)]\n",
    "\n",
    "    return outputs\n",
    "\n",
    "france = get_page('France at the 2022 FIFA World Cup')\n",
    "fr = extract_sections(france.content, france.title)\n",
    "\n",
    "fr[1]"
   ]
  },
  {
   "cell_type": "code",
   "execution_count": 5,
   "metadata": {},
   "outputs": [
    {
     "data": {
      "text/html": [
       "<div>\n",
       "<style scoped>\n",
       "    .dataframe tbody tr th:only-of-type {\n",
       "        vertical-align: middle;\n",
       "    }\n",
       "\n",
       "    .dataframe tbody tr th {\n",
       "        vertical-align: top;\n",
       "    }\n",
       "\n",
       "    .dataframe thead th {\n",
       "        text-align: right;\n",
       "    }\n",
       "</style>\n",
       "<table border=\"1\" class=\"dataframe\">\n",
       "  <thead>\n",
       "    <tr style=\"text-align: right;\">\n",
       "      <th></th>\n",
       "      <th>title</th>\n",
       "      <th>heading</th>\n",
       "      <th>content</th>\n",
       "      <th>tokens</th>\n",
       "    </tr>\n",
       "  </thead>\n",
       "  <tbody>\n",
       "    <tr>\n",
       "      <th>0</th>\n",
       "      <td>2002 FIFA World Cup</td>\n",
       "      <td>Summary</td>\n",
       "      <td>The 2002 FIFA World Cup, also branded as Korea...</td>\n",
       "      <td>411</td>\n",
       "    </tr>\n",
       "    <tr>\n",
       "      <th>1</th>\n",
       "      <td>2002 FIFA World Cup</td>\n",
       "      <td>Host selection</td>\n",
       "      <td>South Korea and Japan were selected as hosts b...</td>\n",
       "      <td>488</td>\n",
       "    </tr>\n",
       "    <tr>\n",
       "      <th>2</th>\n",
       "      <td>2002 FIFA World Cup</td>\n",
       "      <td>Qualification</td>\n",
       "      <td>199 teams attempted to qualify for the 2002 Wo...</td>\n",
       "      <td>438</td>\n",
       "    </tr>\n",
       "    <tr>\n",
       "      <th>3</th>\n",
       "      <td>2002 FIFA World Cup</td>\n",
       "      <td>Venues</td>\n",
       "      <td>South Korea and Japan each provided 10 venues,...</td>\n",
       "      <td>114</td>\n",
       "    </tr>\n",
       "    <tr>\n",
       "      <th>4</th>\n",
       "      <td>2002 FIFA World Cup</td>\n",
       "      <td>Match officials</td>\n",
       "      <td>There was much controversy over the refereeing...</td>\n",
       "      <td>101</td>\n",
       "    </tr>\n",
       "  </tbody>\n",
       "</table>\n",
       "</div>"
      ],
      "text/plain": [
       "                 title          heading  \\\n",
       "0  2002 FIFA World Cup          Summary   \n",
       "1  2002 FIFA World Cup   Host selection   \n",
       "2  2002 FIFA World Cup    Qualification   \n",
       "3  2002 FIFA World Cup           Venues   \n",
       "4  2002 FIFA World Cup  Match officials   \n",
       "\n",
       "                                             content  tokens  \n",
       "0  The 2002 FIFA World Cup, also branded as Korea...     411  \n",
       "1  South Korea and Japan were selected as hosts b...     488  \n",
       "2  199 teams attempted to qualify for the 2002 Wo...     438  \n",
       "3  South Korea and Japan each provided 10 venues,...     114  \n",
       "4  There was much controversy over the refereeing...     101  "
      ]
     },
     "execution_count": 5,
     "metadata": {},
     "output_type": "execute_result"
    }
   ],
   "source": [
    "res = []\n",
    "for page in pages:\n",
    "    res += extract_sections(page.content, page.title)\n",
    "df = pd. DataFrame(res, columns = [\"title\", \"heading\", \"content\", \"tokens\"])\n",
    "df = df[df.tokens > 50]\n",
    "df = df.drop_duplicates(['title', 'heading'])\n",
    "df = df.reset_index().drop('index', axis = 1)\n",
    "df.head()"
   ]
  },
  {
   "cell_type": "code",
   "execution_count": 6,
   "metadata": {},
   "outputs": [],
   "source": [
    "df.to_csv('wc_sections.csv', index = False)"
   ]
  },
  {
   "cell_type": "code",
   "execution_count": 7,
   "metadata": {},
   "outputs": [
    {
     "data": {
      "text/plain": [
       "List of 2022 FIFA World Cup controversies               42\n",
       "2002 FIFA World Cup                                     21\n",
       "2018 and 2022 FIFA World Cup bids                       19\n",
       "2022 FIFA World Cup knockout stage                      18\n",
       "2022 FIFA World Cup qualification – AFC second round    12\n",
       "Name: title, dtype: int64"
      ]
     },
     "execution_count": 7,
     "metadata": {},
     "output_type": "execute_result"
    }
   ],
   "source": [
    "df.title.value_counts().head()"
   ]
  },
  {
   "cell_type": "code",
   "execution_count": 8,
   "metadata": {},
   "outputs": [
    {
     "data": {
      "image/png": "[encoded data removed]",
      "text/plain": [
       "<Figure size 640x480 with 1 Axes>"
      ]
     },
     "metadata": {},
     "output_type": "display_data"
    }
   ],
   "source": [
    "df = pd.read_csv('wc_sections.csv')\n",
    "df[['tokens']].hist()\n",
    "# add axis descriptions and title\n",
    "plt.xlabel('Number of tokens')\n",
    "plt.ylabel('Number of Wikipedia sections')\n",
    "plt.title('Distribution of number of tokens in Wikipedia sections')\n",
    "plt.show()"
   ]
  },
  {
   "cell_type": "code",
   "execution_count": null,
   "metadata": {},
   "outputs": [],
   "source": []
  }
 ],
 "metadata": {
  "kernelspec": {
   "display_name": "Python 3",
   "language": "python",
   "name": "python3"
  },
  "language_info": {
   "codemirror_mode": {
    "name": "ipython",
    "version": 3
   },
   "file_extension": ".py",
   "mimetype": "text/x-python",
   "name": "python",
   "nbconvert_exporter": "python",
   "pygments_lexer": "ipython3",
   "version": "3.11.2"
  },
  "orig_nbformat": 4
 },
 "nbformat": 4,
 "nbformat_minor": 2
}
